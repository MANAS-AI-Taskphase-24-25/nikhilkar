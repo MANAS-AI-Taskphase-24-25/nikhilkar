{
  "nbformat": 4,
  "nbformat_minor": 0,
  "metadata": {
    "colab": {
      "provenance": []
    },
    "kernelspec": {
      "name": "python3",
      "display_name": "Python 3"
    },
    "language_info": {
      "name": "python"
    }
  },
  "cells": [
    {
      "cell_type": "code",
      "execution_count": 1,
      "metadata": {
        "id": "qT1-KjrlEyb_"
      },
      "outputs": [],
      "source": [
        "import numpy as np\n",
        "import pandas as pd\n",
        "import matplotlib.pyplot as plt\n",
        "import copy\n",
        "import math\n",
        "import seaborn as sns"
      ]
    },
    {
      "cell_type": "markdown",
      "source": [
        "**1. Reading Train and Test files**"
      ],
      "metadata": {
        "id": "lwY21kWk5QIW"
      }
    },
    {
      "cell_type": "code",
      "source": [
        "train_data=pd.read_csv('Gotem Pumpkins.csv')\n",
        "test_data=pd.read_csv('Freyja_Pumpkins.csv')\n",
        "train_data.drop(['Unnamed: 0'],axis='columns',inplace=True)\n",
        "test_data.drop(['Unnamed: 0'],axis='columns',inplace=True)\n",
        "train_data.head(10)"
      ],
      "metadata": {
        "colab": {
          "base_uri": "https://localhost:8080/",
          "height": 452
        },
        "id": "GHEpaJuA5Zd8",
        "outputId": "cbc6f73a-4f99-40ed-a74c-0276475fb0f2"
      },
      "execution_count": 2,
      "outputs": [
        {
          "output_type": "execute_result",
          "data": {
            "text/plain": [
              "     Area  Perimeter  Major_Axis_Length  Minor_Axis_Length  Convex_Area  \\\n",
              "0   84930   1204.448           508.7883           213.0266        85665   \n",
              "1  103343   1275.261           521.4694           252.8941       104156   \n",
              "2   98350   1269.539           526.2346           238.4702        99184   \n",
              "3   69517   1059.538           429.8407           206.8250        70493   \n",
              "4   80011   1182.947           501.9065           204.7531        80902   \n",
              "5   66301   1021.671           402.0054           210.7404        67036   \n",
              "6   86511   1131.452           430.6553           256.7710        87397   \n",
              "7   66755    978.902           372.6831           228.9288        67308   \n",
              "8  103248   1253.276           489.6105           269.4285       104423   \n",
              "9   56882    926.303           368.0150           197.4554        57544   \n",
              "\n",
              "   Equiv_Diameter  Eccentricity  Solidity  Extent  Roundness  Aspect_Ration  \\\n",
              "0        328.8407        0.9081    0.9914  0.5482     0.7357         2.3884   \n",
              "1        362.7401        0.8745    0.9922  0.7457     0.7985         2.0620   \n",
              "2        353.8688        0.8914    0.9916  0.5919     0.7668         2.2067   \n",
              "3        297.5093        0.8766    0.9862  0.6623     0.7782         2.0783   \n",
              "4        319.1758        0.9130    0.9890  0.7374     0.7185         2.4513   \n",
              "5        290.5461        0.8516    0.9890  0.7473     0.7982         1.9076   \n",
              "6        331.8874        0.8028    0.9899  0.7453     0.8492         1.6772   \n",
              "7        291.5392        0.7891    0.9918  0.7326     0.8754         1.6279   \n",
              "8        362.5734        0.8350    0.9887  0.6606     0.8260         1.8172   \n",
              "9        269.1178        0.8439    0.9885  0.7403     0.8331         1.8638   \n",
              "\n",
              "   Compactness          Class  \n",
              "0       0.6463  Ürgüp Sivrisi  \n",
              "1       0.6956  Ürgüp Sivrisi  \n",
              "2       0.6725  Ürgüp Sivrisi  \n",
              "3       0.6921     Çerçevelik  \n",
              "4       0.6359  Ürgüp Sivrisi  \n",
              "5       0.7227     Çerçevelik  \n",
              "6       0.7707     Çerçevelik  \n",
              "7       0.7823     Çerçevelik  \n",
              "8       0.7405     Çerçevelik  \n",
              "9       0.7313     Çerçevelik  "
            ],
            "text/html": [
              "\n",
              "  <div id=\"df-310b08a8-b2d4-427a-a398-e0dea16e965d\" class=\"colab-df-container\">\n",
              "    <div>\n",
              "<style scoped>\n",
              "    .dataframe tbody tr th:only-of-type {\n",
              "        vertical-align: middle;\n",
              "    }\n",
              "\n",
              "    .dataframe tbody tr th {\n",
              "        vertical-align: top;\n",
              "    }\n",
              "\n",
              "    .dataframe thead th {\n",
              "        text-align: right;\n",
              "    }\n",
              "</style>\n",
              "<table border=\"1\" class=\"dataframe\">\n",
              "  <thead>\n",
              "    <tr style=\"text-align: right;\">\n",
              "      <th></th>\n",
              "      <th>Area</th>\n",
              "      <th>Perimeter</th>\n",
              "      <th>Major_Axis_Length</th>\n",
              "      <th>Minor_Axis_Length</th>\n",
              "      <th>Convex_Area</th>\n",
              "      <th>Equiv_Diameter</th>\n",
              "      <th>Eccentricity</th>\n",
              "      <th>Solidity</th>\n",
              "      <th>Extent</th>\n",
              "      <th>Roundness</th>\n",
              "      <th>Aspect_Ration</th>\n",
              "      <th>Compactness</th>\n",
              "      <th>Class</th>\n",
              "    </tr>\n",
              "  </thead>\n",
              "  <tbody>\n",
              "    <tr>\n",
              "      <th>0</th>\n",
              "      <td>84930</td>\n",
              "      <td>1204.448</td>\n",
              "      <td>508.7883</td>\n",
              "      <td>213.0266</td>\n",
              "      <td>85665</td>\n",
              "      <td>328.8407</td>\n",
              "      <td>0.9081</td>\n",
              "      <td>0.9914</td>\n",
              "      <td>0.5482</td>\n",
              "      <td>0.7357</td>\n",
              "      <td>2.3884</td>\n",
              "      <td>0.6463</td>\n",
              "      <td>Ürgüp Sivrisi</td>\n",
              "    </tr>\n",
              "    <tr>\n",
              "      <th>1</th>\n",
              "      <td>103343</td>\n",
              "      <td>1275.261</td>\n",
              "      <td>521.4694</td>\n",
              "      <td>252.8941</td>\n",
              "      <td>104156</td>\n",
              "      <td>362.7401</td>\n",
              "      <td>0.8745</td>\n",
              "      <td>0.9922</td>\n",
              "      <td>0.7457</td>\n",
              "      <td>0.7985</td>\n",
              "      <td>2.0620</td>\n",
              "      <td>0.6956</td>\n",
              "      <td>Ürgüp Sivrisi</td>\n",
              "    </tr>\n",
              "    <tr>\n",
              "      <th>2</th>\n",
              "      <td>98350</td>\n",
              "      <td>1269.539</td>\n",
              "      <td>526.2346</td>\n",
              "      <td>238.4702</td>\n",
              "      <td>99184</td>\n",
              "      <td>353.8688</td>\n",
              "      <td>0.8914</td>\n",
              "      <td>0.9916</td>\n",
              "      <td>0.5919</td>\n",
              "      <td>0.7668</td>\n",
              "      <td>2.2067</td>\n",
              "      <td>0.6725</td>\n",
              "      <td>Ürgüp Sivrisi</td>\n",
              "    </tr>\n",
              "    <tr>\n",
              "      <th>3</th>\n",
              "      <td>69517</td>\n",
              "      <td>1059.538</td>\n",
              "      <td>429.8407</td>\n",
              "      <td>206.8250</td>\n",
              "      <td>70493</td>\n",
              "      <td>297.5093</td>\n",
              "      <td>0.8766</td>\n",
              "      <td>0.9862</td>\n",
              "      <td>0.6623</td>\n",
              "      <td>0.7782</td>\n",
              "      <td>2.0783</td>\n",
              "      <td>0.6921</td>\n",
              "      <td>Çerçevelik</td>\n",
              "    </tr>\n",
              "    <tr>\n",
              "      <th>4</th>\n",
              "      <td>80011</td>\n",
              "      <td>1182.947</td>\n",
              "      <td>501.9065</td>\n",
              "      <td>204.7531</td>\n",
              "      <td>80902</td>\n",
              "      <td>319.1758</td>\n",
              "      <td>0.9130</td>\n",
              "      <td>0.9890</td>\n",
              "      <td>0.7374</td>\n",
              "      <td>0.7185</td>\n",
              "      <td>2.4513</td>\n",
              "      <td>0.6359</td>\n",
              "      <td>Ürgüp Sivrisi</td>\n",
              "    </tr>\n",
              "    <tr>\n",
              "      <th>5</th>\n",
              "      <td>66301</td>\n",
              "      <td>1021.671</td>\n",
              "      <td>402.0054</td>\n",
              "      <td>210.7404</td>\n",
              "      <td>67036</td>\n",
              "      <td>290.5461</td>\n",
              "      <td>0.8516</td>\n",
              "      <td>0.9890</td>\n",
              "      <td>0.7473</td>\n",
              "      <td>0.7982</td>\n",
              "      <td>1.9076</td>\n",
              "      <td>0.7227</td>\n",
              "      <td>Çerçevelik</td>\n",
              "    </tr>\n",
              "    <tr>\n",
              "      <th>6</th>\n",
              "      <td>86511</td>\n",
              "      <td>1131.452</td>\n",
              "      <td>430.6553</td>\n",
              "      <td>256.7710</td>\n",
              "      <td>87397</td>\n",
              "      <td>331.8874</td>\n",
              "      <td>0.8028</td>\n",
              "      <td>0.9899</td>\n",
              "      <td>0.7453</td>\n",
              "      <td>0.8492</td>\n",
              "      <td>1.6772</td>\n",
              "      <td>0.7707</td>\n",
              "      <td>Çerçevelik</td>\n",
              "    </tr>\n",
              "    <tr>\n",
              "      <th>7</th>\n",
              "      <td>66755</td>\n",
              "      <td>978.902</td>\n",
              "      <td>372.6831</td>\n",
              "      <td>228.9288</td>\n",
              "      <td>67308</td>\n",
              "      <td>291.5392</td>\n",
              "      <td>0.7891</td>\n",
              "      <td>0.9918</td>\n",
              "      <td>0.7326</td>\n",
              "      <td>0.8754</td>\n",
              "      <td>1.6279</td>\n",
              "      <td>0.7823</td>\n",
              "      <td>Çerçevelik</td>\n",
              "    </tr>\n",
              "    <tr>\n",
              "      <th>8</th>\n",
              "      <td>103248</td>\n",
              "      <td>1253.276</td>\n",
              "      <td>489.6105</td>\n",
              "      <td>269.4285</td>\n",
              "      <td>104423</td>\n",
              "      <td>362.5734</td>\n",
              "      <td>0.8350</td>\n",
              "      <td>0.9887</td>\n",
              "      <td>0.6606</td>\n",
              "      <td>0.8260</td>\n",
              "      <td>1.8172</td>\n",
              "      <td>0.7405</td>\n",
              "      <td>Çerçevelik</td>\n",
              "    </tr>\n",
              "    <tr>\n",
              "      <th>9</th>\n",
              "      <td>56882</td>\n",
              "      <td>926.303</td>\n",
              "      <td>368.0150</td>\n",
              "      <td>197.4554</td>\n",
              "      <td>57544</td>\n",
              "      <td>269.1178</td>\n",
              "      <td>0.8439</td>\n",
              "      <td>0.9885</td>\n",
              "      <td>0.7403</td>\n",
              "      <td>0.8331</td>\n",
              "      <td>1.8638</td>\n",
              "      <td>0.7313</td>\n",
              "      <td>Çerçevelik</td>\n",
              "    </tr>\n",
              "  </tbody>\n",
              "</table>\n",
              "</div>\n",
              "    <div class=\"colab-df-buttons\">\n",
              "\n",
              "  <div class=\"colab-df-container\">\n",
              "    <button class=\"colab-df-convert\" onclick=\"convertToInteractive('df-310b08a8-b2d4-427a-a398-e0dea16e965d')\"\n",
              "            title=\"Convert this dataframe to an interactive table.\"\n",
              "            style=\"display:none;\">\n",
              "\n",
              "  <svg xmlns=\"http://www.w3.org/2000/svg\" height=\"24px\" viewBox=\"0 -960 960 960\">\n",
              "    <path d=\"M120-120v-720h720v720H120Zm60-500h600v-160H180v160Zm220 220h160v-160H400v160Zm0 220h160v-160H400v160ZM180-400h160v-160H180v160Zm440 0h160v-160H620v160ZM180-180h160v-160H180v160Zm440 0h160v-160H620v160Z\"/>\n",
              "  </svg>\n",
              "    </button>\n",
              "\n",
              "  <style>\n",
              "    .colab-df-container {\n",
              "      display:flex;\n",
              "      gap: 12px;\n",
              "    }\n",
              "\n",
              "    .colab-df-convert {\n",
              "      background-color: #E8F0FE;\n",
              "      border: none;\n",
              "      border-radius: 50%;\n",
              "      cursor: pointer;\n",
              "      display: none;\n",
              "      fill: #1967D2;\n",
              "      height: 32px;\n",
              "      padding: 0 0 0 0;\n",
              "      width: 32px;\n",
              "    }\n",
              "\n",
              "    .colab-df-convert:hover {\n",
              "      background-color: #E2EBFA;\n",
              "      box-shadow: 0px 1px 2px rgba(60, 64, 67, 0.3), 0px 1px 3px 1px rgba(60, 64, 67, 0.15);\n",
              "      fill: #174EA6;\n",
              "    }\n",
              "\n",
              "    .colab-df-buttons div {\n",
              "      margin-bottom: 4px;\n",
              "    }\n",
              "\n",
              "    [theme=dark] .colab-df-convert {\n",
              "      background-color: #3B4455;\n",
              "      fill: #D2E3FC;\n",
              "    }\n",
              "\n",
              "    [theme=dark] .colab-df-convert:hover {\n",
              "      background-color: #434B5C;\n",
              "      box-shadow: 0px 1px 3px 1px rgba(0, 0, 0, 0.15);\n",
              "      filter: drop-shadow(0px 1px 2px rgba(0, 0, 0, 0.3));\n",
              "      fill: #FFFFFF;\n",
              "    }\n",
              "  </style>\n",
              "\n",
              "    <script>\n",
              "      const buttonEl =\n",
              "        document.querySelector('#df-310b08a8-b2d4-427a-a398-e0dea16e965d button.colab-df-convert');\n",
              "      buttonEl.style.display =\n",
              "        google.colab.kernel.accessAllowed ? 'block' : 'none';\n",
              "\n",
              "      async function convertToInteractive(key) {\n",
              "        const element = document.querySelector('#df-310b08a8-b2d4-427a-a398-e0dea16e965d');\n",
              "        const dataTable =\n",
              "          await google.colab.kernel.invokeFunction('convertToInteractive',\n",
              "                                                    [key], {});\n",
              "        if (!dataTable) return;\n",
              "\n",
              "        const docLinkHtml = 'Like what you see? Visit the ' +\n",
              "          '<a target=\"_blank\" href=https://colab.research.google.com/notebooks/data_table.ipynb>data table notebook</a>'\n",
              "          + ' to learn more about interactive tables.';\n",
              "        element.innerHTML = '';\n",
              "        dataTable['output_type'] = 'display_data';\n",
              "        await google.colab.output.renderOutput(dataTable, element);\n",
              "        const docLink = document.createElement('div');\n",
              "        docLink.innerHTML = docLinkHtml;\n",
              "        element.appendChild(docLink);\n",
              "      }\n",
              "    </script>\n",
              "  </div>\n",
              "\n",
              "\n",
              "<div id=\"df-9ac5c7bd-3ce6-436e-8495-99894fedfa8f\">\n",
              "  <button class=\"colab-df-quickchart\" onclick=\"quickchart('df-9ac5c7bd-3ce6-436e-8495-99894fedfa8f')\"\n",
              "            title=\"Suggest charts\"\n",
              "            style=\"display:none;\">\n",
              "\n",
              "<svg xmlns=\"http://www.w3.org/2000/svg\" height=\"24px\"viewBox=\"0 0 24 24\"\n",
              "     width=\"24px\">\n",
              "    <g>\n",
              "        <path d=\"M19 3H5c-1.1 0-2 .9-2 2v14c0 1.1.9 2 2 2h14c1.1 0 2-.9 2-2V5c0-1.1-.9-2-2-2zM9 17H7v-7h2v7zm4 0h-2V7h2v10zm4 0h-2v-4h2v4z\"/>\n",
              "    </g>\n",
              "</svg>\n",
              "  </button>\n",
              "\n",
              "<style>\n",
              "  .colab-df-quickchart {\n",
              "      --bg-color: #E8F0FE;\n",
              "      --fill-color: #1967D2;\n",
              "      --hover-bg-color: #E2EBFA;\n",
              "      --hover-fill-color: #174EA6;\n",
              "      --disabled-fill-color: #AAA;\n",
              "      --disabled-bg-color: #DDD;\n",
              "  }\n",
              "\n",
              "  [theme=dark] .colab-df-quickchart {\n",
              "      --bg-color: #3B4455;\n",
              "      --fill-color: #D2E3FC;\n",
              "      --hover-bg-color: #434B5C;\n",
              "      --hover-fill-color: #FFFFFF;\n",
              "      --disabled-bg-color: #3B4455;\n",
              "      --disabled-fill-color: #666;\n",
              "  }\n",
              "\n",
              "  .colab-df-quickchart {\n",
              "    background-color: var(--bg-color);\n",
              "    border: none;\n",
              "    border-radius: 50%;\n",
              "    cursor: pointer;\n",
              "    display: none;\n",
              "    fill: var(--fill-color);\n",
              "    height: 32px;\n",
              "    padding: 0;\n",
              "    width: 32px;\n",
              "  }\n",
              "\n",
              "  .colab-df-quickchart:hover {\n",
              "    background-color: var(--hover-bg-color);\n",
              "    box-shadow: 0 1px 2px rgba(60, 64, 67, 0.3), 0 1px 3px 1px rgba(60, 64, 67, 0.15);\n",
              "    fill: var(--button-hover-fill-color);\n",
              "  }\n",
              "\n",
              "  .colab-df-quickchart-complete:disabled,\n",
              "  .colab-df-quickchart-complete:disabled:hover {\n",
              "    background-color: var(--disabled-bg-color);\n",
              "    fill: var(--disabled-fill-color);\n",
              "    box-shadow: none;\n",
              "  }\n",
              "\n",
              "  .colab-df-spinner {\n",
              "    border: 2px solid var(--fill-color);\n",
              "    border-color: transparent;\n",
              "    border-bottom-color: var(--fill-color);\n",
              "    animation:\n",
              "      spin 1s steps(1) infinite;\n",
              "  }\n",
              "\n",
              "  @keyframes spin {\n",
              "    0% {\n",
              "      border-color: transparent;\n",
              "      border-bottom-color: var(--fill-color);\n",
              "      border-left-color: var(--fill-color);\n",
              "    }\n",
              "    20% {\n",
              "      border-color: transparent;\n",
              "      border-left-color: var(--fill-color);\n",
              "      border-top-color: var(--fill-color);\n",
              "    }\n",
              "    30% {\n",
              "      border-color: transparent;\n",
              "      border-left-color: var(--fill-color);\n",
              "      border-top-color: var(--fill-color);\n",
              "      border-right-color: var(--fill-color);\n",
              "    }\n",
              "    40% {\n",
              "      border-color: transparent;\n",
              "      border-right-color: var(--fill-color);\n",
              "      border-top-color: var(--fill-color);\n",
              "    }\n",
              "    60% {\n",
              "      border-color: transparent;\n",
              "      border-right-color: var(--fill-color);\n",
              "    }\n",
              "    80% {\n",
              "      border-color: transparent;\n",
              "      border-right-color: var(--fill-color);\n",
              "      border-bottom-color: var(--fill-color);\n",
              "    }\n",
              "    90% {\n",
              "      border-color: transparent;\n",
              "      border-bottom-color: var(--fill-color);\n",
              "    }\n",
              "  }\n",
              "</style>\n",
              "\n",
              "  <script>\n",
              "    async function quickchart(key) {\n",
              "      const quickchartButtonEl =\n",
              "        document.querySelector('#' + key + ' button');\n",
              "      quickchartButtonEl.disabled = true;  // To prevent multiple clicks.\n",
              "      quickchartButtonEl.classList.add('colab-df-spinner');\n",
              "      try {\n",
              "        const charts = await google.colab.kernel.invokeFunction(\n",
              "            'suggestCharts', [key], {});\n",
              "      } catch (error) {\n",
              "        console.error('Error during call to suggestCharts:', error);\n",
              "      }\n",
              "      quickchartButtonEl.classList.remove('colab-df-spinner');\n",
              "      quickchartButtonEl.classList.add('colab-df-quickchart-complete');\n",
              "    }\n",
              "    (() => {\n",
              "      let quickchartButtonEl =\n",
              "        document.querySelector('#df-9ac5c7bd-3ce6-436e-8495-99894fedfa8f button');\n",
              "      quickchartButtonEl.style.display =\n",
              "        google.colab.kernel.accessAllowed ? 'block' : 'none';\n",
              "    })();\n",
              "  </script>\n",
              "</div>\n",
              "\n",
              "    </div>\n",
              "  </div>\n"
            ],
            "application/vnd.google.colaboratory.intrinsic+json": {
              "type": "dataframe",
              "variable_name": "train_data",
              "summary": "{\n  \"name\": \"train_data\",\n  \"rows\": 2000,\n  \"fields\": [\n    {\n      \"column\": \"Area\",\n      \"properties\": {\n        \"dtype\": \"number\",\n        \"std\": 13719,\n        \"min\": 47939,\n        \"max\": 136574,\n        \"num_unique_values\": 1945,\n        \"samples\": [\n          71069,\n          52367,\n          71503\n        ],\n        \"semantic_type\": \"\",\n        \"description\": \"\"\n      }\n    },\n    {\n      \"column\": \"Perimeter\",\n      \"properties\": {\n        \"dtype\": \"number\",\n        \"std\": 109.33184299061473,\n        \"min\": 868.485,\n        \"max\": 1559.45,\n        \"num_unique_values\": 1992,\n        \"samples\": [\n          1205.361,\n          1002.167,\n          1095.816\n        ],\n        \"semantic_type\": \"\",\n        \"description\": \"\"\n      }\n    },\n    {\n      \"column\": \"Major_Axis_Length\",\n      \"properties\": {\n        \"dtype\": \"number\",\n        \"std\": 56.33116290829825,\n        \"min\": 320.8446,\n        \"max\": 661.9113,\n        \"num_unique_values\": 2000,\n        \"samples\": [\n          556.3199,\n          395.8028,\n          436.0889\n        ],\n        \"semantic_type\": \"\",\n        \"description\": \"\"\n      }\n    },\n    {\n      \"column\": \"Minor_Axis_Length\",\n      \"properties\": {\n        \"dtype\": \"number\",\n        \"std\": 23.163673225276412,\n        \"min\": 154.002,\n        \"max\": 305.818,\n        \"num_unique_values\": 1997,\n        \"samples\": [\n          217.144,\n          263.913,\n          172.0423\n        ],\n        \"semantic_type\": \"\",\n        \"description\": \"\"\n      }\n    },\n    {\n      \"column\": \"Convex_Area\",\n      \"properties\": {\n        \"dtype\": \"number\",\n        \"std\": 13816,\n        \"min\": 48366,\n        \"max\": 138384,\n        \"num_unique_values\": 1962,\n        \"samples\": [\n          66906,\n          72877,\n          75724\n        ],\n        \"semantic_type\": \"\",\n        \"description\": \"\"\n      }\n    },\n    {\n      \"column\": \"Equiv_Diameter\",\n      \"properties\": {\n        \"dtype\": \"number\",\n        \"std\": 27.021520105175423,\n        \"min\": 247.0584,\n        \"max\": 417.0029,\n        \"num_unique_values\": 1945,\n        \"samples\": [\n          300.812,\n          258.2165,\n          301.7291\n        ],\n        \"semantic_type\": \"\",\n        \"description\": \"\"\n      }\n    },\n    {\n      \"column\": \"Eccentricity\",\n      \"properties\": {\n        \"dtype\": \"number\",\n        \"std\": 0.04451120860798293,\n        \"min\": 0.4921,\n        \"max\": 0.9464,\n        \"num_unique_values\": 1158,\n        \"samples\": [\n          0.8406,\n          0.8333,\n          0.8269\n        ],\n        \"semantic_type\": \"\",\n        \"description\": \"\"\n      }\n    },\n    {\n      \"column\": \"Solidity\",\n      \"properties\": {\n        \"dtype\": \"number\",\n        \"std\": 0.0036371416125241494,\n        \"min\": 0.9186,\n        \"max\": 0.9944,\n        \"num_unique_values\": 163,\n        \"samples\": [\n          0.9838,\n          0.9824,\n          0.9805\n        ],\n        \"semantic_type\": \"\",\n        \"description\": \"\"\n      }\n    },\n    {\n      \"column\": \"Extent\",\n      \"properties\": {\n        \"dtype\": \"number\",\n        \"std\": 0.06018013278623258,\n        \"min\": 0.4843,\n        \"max\": 0.8296,\n        \"num_unique_values\": 1207,\n        \"samples\": [\n          0.6895,\n          0.684,\n          0.6609\n        ],\n        \"semantic_type\": \"\",\n        \"description\": \"\"\n      }\n    },\n    {\n      \"column\": \"Roundness\",\n      \"properties\": {\n        \"dtype\": \"number\",\n        \"std\": 0.05534795496402143,\n        \"min\": 0.5546,\n        \"max\": 0.9233,\n        \"num_unique_values\": 1290,\n        \"samples\": [\n          0.753,\n          0.7843,\n          0.7965\n        ],\n        \"semantic_type\": \"\",\n        \"description\": \"\"\n      }\n    },\n    {\n      \"column\": \"Aspect_Ration\",\n      \"properties\": {\n        \"dtype\": \"number\",\n        \"std\": 0.3139530084258788,\n        \"min\": 1.1487,\n        \"max\": 3.0969,\n        \"num_unique_values\": 1841,\n        \"samples\": [\n          1.9549,\n          1.5467,\n          1.8003\n        ],\n        \"semantic_type\": \"\",\n        \"description\": \"\"\n      }\n    },\n    {\n      \"column\": \"Compactness\",\n      \"properties\": {\n        \"dtype\": \"number\",\n        \"std\": 0.05254820646491025,\n        \"min\": 0.567,\n        \"max\": 0.9049,\n        \"num_unique_values\": 1246,\n        \"samples\": [\n          0.6024,\n          0.6718,\n          0.7558\n        ],\n        \"semantic_type\": \"\",\n        \"description\": \"\"\n      }\n    },\n    {\n      \"column\": \"Class\",\n      \"properties\": {\n        \"dtype\": \"category\",\n        \"num_unique_values\": 2,\n        \"samples\": [\n          \"\\u00c7er\\u00e7evelik\",\n          \"\\u00dcrg\\u00fcp Sivrisi\"\n        ],\n        \"semantic_type\": \"\",\n        \"description\": \"\"\n      }\n    }\n  ]\n}"
            }
          },
          "metadata": {},
          "execution_count": 2
        }
      ]
    },
    {
      "cell_type": "code",
      "source": [
        "null_counts = train_data.isnull().sum() #Checking the amount of NaN values in the Training Data\n",
        "print(null_counts)"
      ],
      "metadata": {
        "colab": {
          "base_uri": "https://localhost:8080/"
        },
        "id": "x6OK7oyY6A2E",
        "outputId": "f3f4e110-1949-439e-f4fb-4a5d1eb6c28c"
      },
      "execution_count": 3,
      "outputs": [
        {
          "output_type": "stream",
          "name": "stdout",
          "text": [
            "Area                 0\n",
            "Perimeter            0\n",
            "Major_Axis_Length    0\n",
            "Minor_Axis_Length    0\n",
            "Convex_Area          0\n",
            "Equiv_Diameter       0\n",
            "Eccentricity         0\n",
            "Solidity             0\n",
            "Extent               0\n",
            "Roundness            0\n",
            "Aspect_Ration        0\n",
            "Compactness          0\n",
            "Class                0\n",
            "dtype: int64\n"
          ]
        }
      ]
    },
    {
      "cell_type": "code",
      "source": [
        "null_counts = test_data.isnull().sum() #Checking the amount of NaN values in the Training Data\n",
        "print(null_counts)"
      ],
      "metadata": {
        "colab": {
          "base_uri": "https://localhost:8080/"
        },
        "id": "Wh0YalbdW44j",
        "outputId": "2b452d85-5dae-4334-9c22-6f6e496d0c21"
      },
      "execution_count": 4,
      "outputs": [
        {
          "output_type": "stream",
          "name": "stdout",
          "text": [
            "Area                 0\n",
            "Perimeter            0\n",
            "Major_Axis_Length    0\n",
            "Minor_Axis_Length    0\n",
            "Convex_Area          0\n",
            "Equiv_Diameter       0\n",
            "Eccentricity         0\n",
            "Solidity             0\n",
            "Extent               0\n",
            "Roundness            0\n",
            "Aspect_Ration        0\n",
            "Compactness          0\n",
            "Class                0\n",
            "dtype: int64\n"
          ]
        }
      ]
    },
    {
      "cell_type": "markdown",
      "source": [
        "**As the neither the train data nor test data seem to have any NaN values we are good to go**"
      ],
      "metadata": {
        "id": "X3g9Opqf6F1_"
      }
    },
    {
      "cell_type": "code",
      "source": [
        "x1=train_data.drop(['Class'],axis='columns').values #Converting our training examples and features into a  Numpy array\n",
        "y1=train_data['Class'].values.reshape(-1,1) #Converting our output into a Numpy array\n",
        "x2=test_data.drop(['Class'],axis='columns').values\n",
        "y2=test_data['Class'].values.reshape(-1,1)"
      ],
      "metadata": {
        "id": "HxhdGga16NB-"
      },
      "execution_count": 5,
      "outputs": []
    },
    {
      "cell_type": "markdown",
      "source": [
        "**Step 2 :As we can see the column Class has the outputs Ürgüp Sivrisi and Çerçevelik which we can correspond to Numeric values 0 and 1 respectively to fit our classification model**"
      ],
      "metadata": {
        "id": "rO3wVVnu8Uoj"
      }
    },
    {
      "cell_type": "code",
      "source": [
        "y1 = np.where(y1 == 'Ürgüp Sivrisi', 1, 0)\n",
        "y2 = np.where(y2 == 'Ürgüp Sivrisi', 1, 0)\n",
        "x1 = x1.astype('float64')\n",
        "x2 = x2.astype('float64')"
      ],
      "metadata": {
        "id": "O6Yyfy3o8T3G"
      },
      "execution_count": 6,
      "outputs": []
    },
    {
      "cell_type": "markdown",
      "source": [
        "# Z-Score Normalization"
      ],
      "metadata": {
        "id": "iPoR6H6KPSVI"
      }
    },
    {
      "cell_type": "code",
      "source": [
        "mean1=np.mean(x1,axis=0) # Performing Z score normalisation for the Datasets to bring them to comparable values\n",
        "std1=np.std(x1,axis=0)\n",
        "x1=(x1-mean1)/std1\n",
        "x2=(x2-mean1)/std1\n",
        "\n"
      ],
      "metadata": {
        "id": "SyC4ARhZAK6l"
      },
      "execution_count": 7,
      "outputs": []
    },
    {
      "cell_type": "markdown",
      "source": [
        "# Training the Model\n",
        "---\n",
        "\n"
      ],
      "metadata": {
        "id": "CpbCti9zPc_k"
      }
    },
    {
      "cell_type": "markdown",
      "source": [
        "**Sigmoid Function**"
      ],
      "metadata": {
        "id": "pDdM7dPwPp0a"
      }
    },
    {
      "cell_type": "code",
      "source": [
        "def sigmoid(z):\n",
        "    return 1 / (1 + np.exp(-z))\n"
      ],
      "metadata": {
        "id": "kbW_0WOGArwJ"
      },
      "execution_count": 8,
      "outputs": []
    },
    {
      "cell_type": "markdown",
      "source": [
        "**Cost Function for Logistic regression**"
      ],
      "metadata": {
        "id": "aAfMx9S7PtRz"
      }
    },
    {
      "cell_type": "code",
      "source": [
        "z_values=[print]\n",
        "def compute_cost(x, y, weights, bias):\n",
        "    m = len(y)\n",
        "    z = np.dot(x, weights) + bias\n",
        "    z_values.append(z)\n",
        "    y_pred = sigmoid(z)\n",
        "    cost = -(1/m) * np.sum(y * np.log(y_pred) + (1 - y) * np.log(1 - y_pred)) #New type of cost function which provides a convex cost function\n",
        "    return cost"
      ],
      "metadata": {
        "id": "fPr_nKCwT3OK"
      },
      "execution_count": 9,
      "outputs": []
    },
    {
      "cell_type": "markdown",
      "source": [
        "**Gradient Descent**"
      ],
      "metadata": {
        "id": "BkFVVdDKP7t0"
      }
    },
    {
      "cell_type": "code",
      "source": [
        "def gradient_descent(x, y, weights, bias, learning_rate, num_iterations):\n",
        "    m = len(y)\n",
        "    costs = []\n",
        "    for i in range(num_iterations):\n",
        "        z = np.dot(x, weights) + bias\n",
        "        y_pred = sigmoid(z)\n",
        "        cost = compute_cost(x, y, weights, bias)\n",
        "        costs.append(cost)\n",
        "        weights_gradient = (1/m) * np.dot(x.T, (y_pred - y))\n",
        "        bias_gradient = (1/m) * np.sum(y_pred - y)\n",
        "        weights -= learning_rate * weights_gradient\n",
        "        bias -= learning_rate * bias_gradient\n",
        "    return weights, bias, costs\n"
      ],
      "metadata": {
        "id": "aJ9NiPeWT6iA"
      },
      "execution_count": 10,
      "outputs": []
    },
    {
      "cell_type": "markdown",
      "source": [
        "**Predicting the outputs**"
      ],
      "metadata": {
        "id": "NxfCChZRP_-_"
      }
    },
    {
      "cell_type": "code",
      "source": [
        " def predict(x, weights, bias):\n",
        "    z = np.dot(x, weights) + bias\n",
        "    y_pred = sigmoid(z)\n",
        "    y_pred_class = np.where(y_pred >= 0.5, 1, 0)\n",
        "    return y_pred_class"
      ],
      "metadata": {
        "id": "ufQQPnylVNr-"
      },
      "execution_count": 11,
      "outputs": []
    },
    {
      "cell_type": "code",
      "source": [
        "weights=np.zeros((x1.shape[1],1))\n",
        "bias=0\n",
        "learning_rate=0.02\n",
        "num_iterations=1000\n",
        "weights,bias,costs=gradient_descent(x1,y1,weights,bias,learning_rate,num_iterations)"
      ],
      "metadata": {
        "id": "hsiXviPOhbcy"
      },
      "execution_count": 12,
      "outputs": []
    },
    {
      "cell_type": "markdown",
      "source": [
        "**Weights After Gradient Descent has been performed**"
      ],
      "metadata": {
        "id": "HEGStSZtURav"
      }
    },
    {
      "cell_type": "code",
      "source": [
        "weights"
      ],
      "metadata": {
        "colab": {
          "base_uri": "https://localhost:8080/"
        },
        "id": "DgFdAkxyiSkn",
        "outputId": "79e1293d-7a1f-47c8-ce72-1fe71af1b4f9"
      },
      "execution_count": 13,
      "outputs": [
        {
          "output_type": "execute_result",
          "data": {
            "text/plain": [
              "array([[ 0.0558144 ],\n",
              "       [ 0.15598554],\n",
              "       [ 0.39412829],\n",
              "       [-0.45825593],\n",
              "       [ 0.04468281],\n",
              "       [-0.00768237],\n",
              "       [ 0.5748081 ],\n",
              "       [ 0.43509661],\n",
              "       [ 0.02471056],\n",
              "       [-0.45986286],\n",
              "       [ 0.64710666],\n",
              "       [-0.64721131]])"
            ]
          },
          "metadata": {},
          "execution_count": 13
        }
      ]
    },
    {
      "cell_type": "code",
      "source": [
        "     # Obtaining the predicted outputs for comparison with actual answer\n",
        "test_predicted=predict(x2,weights,bias)\n",
        "print(f'Final Cost : {costs[-1]}')"
      ],
      "metadata": {
        "colab": {
          "base_uri": "https://localhost:8080/"
        },
        "id": "2EC2wyqRg5I3",
        "outputId": "7e82d224-0204-4d6b-fc89-17f70544e98f"
      },
      "execution_count": 19,
      "outputs": [
        {
          "output_type": "stream",
          "name": "stdout",
          "text": [
            "Final Cost : 0.32646509680606395\n"
          ]
        }
      ]
    },
    {
      "cell_type": "code",
      "source": [
        "for i in range(0,len(costs),10):       #To show how the Cost function is decreasing woth every iteration\n",
        "  print(f'Iteration :{i}      Cost: {costs[i]}')"
      ],
      "metadata": {
        "colab": {
          "base_uri": "https://localhost:8080/"
        },
        "id": "2v0C3BE4QGne",
        "outputId": "5e0b090a-ad13-44b1-c94c-49f1615142f3"
      },
      "execution_count": 20,
      "outputs": [
        {
          "output_type": "stream",
          "name": "stdout",
          "text": [
            "Iteration :0      Cost: 0.6931471805599454\n",
            "Iteration :10      Cost: 0.5863752911819036\n",
            "Iteration :20      Cost: 0.521956858025134\n",
            "Iteration :30      Cost: 0.4803508662913659\n",
            "Iteration :40      Cost: 0.4517234517788956\n",
            "Iteration :50      Cost: 0.43100139518859043\n",
            "Iteration :60      Cost: 0.4153957060050898\n",
            "Iteration :70      Cost: 0.4032711656122473\n",
            "Iteration :80      Cost: 0.3936134898754417\n",
            "Iteration :90      Cost: 0.38576298961274746\n",
            "Iteration :100      Cost: 0.37927323445757555\n",
            "Iteration :110      Cost: 0.37383186772072585\n",
            "Iteration :120      Cost: 0.36921407990109395\n",
            "Iteration :130      Cost: 0.3652541178597889\n",
            "Iteration :140      Cost: 0.36182720067626956\n",
            "Iteration :150      Cost: 0.35883767610568085\n",
            "Iteration :160      Cost: 0.35621104837746476\n",
            "Iteration :170      Cost: 0.3538884805304787\n",
            "Iteration :180      Cost: 0.3518229210068745\n",
            "Iteration :190      Cost: 0.34997632192161326\n",
            "Iteration :200      Cost: 0.34831760677447327\n",
            "Iteration :210      Cost: 0.3468211625701435\n",
            "Iteration :220      Cost: 0.3454657052680089\n",
            "Iteration :230      Cost: 0.34423341520375517\n",
            "Iteration :240      Cost: 0.34310927054774126\n",
            "Iteration :250      Cost: 0.34208052794300986\n",
            "Iteration :260      Cost: 0.3411363138464922\n",
            "Iteration :270      Cost: 0.3402673000626036\n",
            "Iteration :280      Cost: 0.33946544396453315\n",
            "Iteration :290      Cost: 0.33872377888994465\n",
            "Iteration :300      Cost: 0.33803624379799907\n",
            "Iteration :310      Cost: 0.33739754390127563\n",
            "Iteration :320      Cost: 0.3368030359231339\n",
            "Iteration :330      Cost: 0.33624863307372954\n",
            "Iteration :340      Cost: 0.3357307259224809\n",
            "Iteration :350      Cost: 0.33524611616730865\n",
            "Iteration :360      Cost: 0.3347919609298971\n",
            "Iteration :370      Cost: 0.33436572569083034\n",
            "Iteration :380      Cost: 0.3339651443545771\n",
            "Iteration :390      Cost: 0.33358818522820866\n",
            "Iteration :400      Cost: 0.33323302192889803\n",
            "Iteration :410      Cost: 0.3328980084181492\n",
            "Iteration :420      Cost: 0.3325816575062752\n",
            "Iteration :430      Cost: 0.33228262228711525\n",
            "Iteration :440      Cost: 0.3319996800566703\n",
            "Iteration :450      Cost: 0.3317317183450693\n",
            "Iteration :460      Cost: 0.33147772275279114\n",
            "Iteration :470      Cost: 0.3312367663322647\n",
            "Iteration :480      Cost: 0.33100800029711647\n",
            "Iteration :490      Cost: 0.3307906458752168\n",
            "Iteration :500      Cost: 0.3305839871497001\n",
            "Iteration :510      Cost: 0.33038736475540476\n",
            "Iteration :520      Cost: 0.3302001703176052\n",
            "Iteration :530      Cost: 0.33002184153617087\n",
            "Iteration :540      Cost: 0.329851857831982\n",
            "Iteration :550      Cost: 0.32968973648399447\n",
            "Iteration :560      Cost: 0.32953502919515787\n",
            "Iteration :570      Cost: 0.32938731903374335\n",
            "Iteration :580      Cost: 0.32924621770377416\n",
            "Iteration :590      Cost: 0.32911136310437017\n",
            "Iteration :600      Cost: 0.3289824171430797\n",
            "Iteration :610      Cost: 0.32885906377280083\n",
            "Iteration :620      Cost: 0.32874100722581967\n",
            "Iteration :630      Cost: 0.3286279704218743\n",
            "Iteration :640      Cost: 0.32851969353009924\n",
            "Iteration :650      Cost: 0.3284159326672521\n",
            "Iteration :660      Cost: 0.3283164587168421\n",
            "Iteration :670      Cost: 0.3282210562557033\n",
            "Iteration :680      Cost: 0.3281295225762348\n",
            "Iteration :690      Cost: 0.32804166679398317\n",
            "Iteration :700      Cost: 0.3279573090315141\n",
            "Iteration :710      Cost: 0.3278762796706192\n",
            "Iteration :720      Cost: 0.32779841866586995\n",
            "Iteration :730      Cost: 0.3277235749133604\n",
            "Iteration :740      Cost: 0.3276516056692136\n",
            "Iteration :750      Cost: 0.3275823760130555\n",
            "Iteration :760      Cost: 0.3275157583522165\n",
            "Iteration :770      Cost: 0.32745163196289717\n",
            "Iteration :780      Cost: 0.3273898825649602\n",
            "Iteration :790      Cost: 0.3273304019273712\n",
            "Iteration :800      Cost: 0.3272730875016349\n",
            "Iteration :810      Cost: 0.327217842080853\n",
            "Iteration :820      Cost: 0.32716457348227446\n",
            "Iteration :830      Cost: 0.3271131942514246\n",
            "Iteration :840      Cost: 0.3270636213860909\n",
            "Iteration :850      Cost: 0.32701577607860843\n",
            "Iteration :860      Cost: 0.3269695834750362\n",
            "Iteration :870      Cost: 0.32692497244994584\n",
            "Iteration :880      Cost: 0.3268818753956622\n",
            "Iteration :890      Cost: 0.3268402280248947\n",
            "Iteration :900      Cost: 0.32679996918579335\n",
            "Iteration :910      Cost: 0.32676104068854445\n",
            "Iteration :920      Cost: 0.3267233871426961\n",
            "Iteration :930      Cost: 0.326686955804466\n",
            "Iteration :940      Cost: 0.32665169643334935\n",
            "Iteration :950      Cost: 0.32661756115739365\n",
            "Iteration :960      Cost: 0.32658450434655983\n",
            "Iteration :970      Cost: 0.3265524824936301\n",
            "Iteration :980      Cost: 0.3265214541021667\n",
            "Iteration :990      Cost: 0.32649137958106006\n"
          ]
        }
      ]
    },
    {
      "cell_type": "code",
      "source": [
        "\n",
        "\n",
        "m2=y2.shape[0]\n",
        "\n",
        "comparison_test= test_predicted == y2\n",
        "\n",
        "correct_predictions2 = np.sum(comparison_test)/m2\n",
        "\n",
        "print(f'Test Data Accuracy: {correct_predictions2 * 100:2f}%')"
      ],
      "metadata": {
        "colab": {
          "base_uri": "https://localhost:8080/"
        },
        "id": "NdERXVkvjECh",
        "outputId": "b7c66eb9-45c3-4a2e-f529-508a7172717a"
      },
      "execution_count": 21,
      "outputs": [
        {
          "output_type": "stream",
          "name": "stdout",
          "text": [
            "Test Data Accuracy: 88.000000%\n"
          ]
        }
      ]
    },
    {
      "cell_type": "code",
      "source": [
        "fig, ax = plt.subplots()\n",
        "ax.plot(costs)\n",
        "ax.set_xlabel('Iterations')\n",
        "ax.set_ylabel('Cost')\n",
        "ax.set_title('Cost vs Iterations')\n",
        "plt.show()"
      ],
      "metadata": {
        "colab": {
          "base_uri": "https://localhost:8080/",
          "height": 472
        },
        "id": "kB55bTq8lQqy",
        "outputId": "a364bd8f-bd7d-4bd9-bafa-12f9d3e2ee26"
      },
      "execution_count": 22,
      "outputs": [
        {
          "output_type": "display_data",
          "data": {
            "text/plain": [
              "<Figure size 640x480 with 1 Axes>"
            ],
            "image/png": "[encoded data removed]"
          },
          "metadata": {}
        }
      ]
    }
  ]
}